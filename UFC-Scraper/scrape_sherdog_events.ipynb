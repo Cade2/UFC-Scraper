{
 "cells": [
  {
   "cell_type": "code",
   "execution_count": 1,
   "id": "01b77f36-2c67-49d8-9daa-8f8247c18902",
   "metadata": {},
   "outputs": [],
   "source": [
    "import requests\n",
    "from bs4 import BeautifulSoup\n",
    "import pandas as pd"
   ]
  },
  {
   "cell_type": "code",
   "execution_count": 2,
   "id": "b6bc4c4b-1c97-4743-a8a5-bccd21719db9",
   "metadata": {},
   "outputs": [],
   "source": [
    "def scrape_sherdog_events():\n",
    "    url = \"https://www.sherdog.com/organizations/Ultimate-Fighting-Championship-UFC-2\"\n",
    "    response = requests.get(url)\n",
    "    soup = BeautifulSoup(response.content, 'html.parser')\n",
    "\n",
    "    events_data = []\n",
    "    event_cards = soup.find_all('tr', class_='event')\n",
    "\n",
    "    for card in event_cards:\n",
    "        name = card.find('td', class_='event-title').text.strip()\n",
    "        date = card.find('td', class_='date').text.strip()\n",
    "        location = card.find('td', class_='location').text.strip()\n",
    "\n",
    "        events_data.append({\n",
    "            'Event Name': name,\n",
    "            'Date': date,\n",
    "            'Location': location\n",
    "        })\n",
    "\n",
    "    # Convert to DataFrame\n",
    "    events_df = pd.DataFrame(events_data)\n",
    "    return events_df"
   ]
  },
  {
   "cell_type": "code",
   "execution_count": 3,
   "id": "275344cd-bb31-4eca-acd1-31d424028717",
   "metadata": {},
   "outputs": [],
   "source": [
    "# Example usage\n",
    "sherdog_events_df = scrape_sherdog_events()\n",
    "sherdog_events_df.to_csv('sherdog_events_backup.csv', index=False)"
   ]
  },
  {
   "cell_type": "code",
   "execution_count": null,
   "id": "042a940c-9d23-462d-82ea-859e39882128",
   "metadata": {},
   "outputs": [],
   "source": []
  }
 ],
 "metadata": {
  "kernelspec": {
   "display_name": "Python 3 (ipykernel)",
   "language": "python",
   "name": "python3"
  },
  "language_info": {
   "codemirror_mode": {
    "name": "ipython",
    "version": 3
   },
   "file_extension": ".py",
   "mimetype": "text/x-python",
   "name": "python",
   "nbconvert_exporter": "python",
   "pygments_lexer": "ipython3",
   "version": "3.12.7"
  }
 },
 "nbformat": 4,
 "nbformat_minor": 5
}
