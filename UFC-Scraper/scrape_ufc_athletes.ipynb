{
 "cells": [
  {
   "cell_type": "code",
   "execution_count": 1,
   "id": "19750ba2-f12e-4cfa-9c39-01cdbaf69ba2",
   "metadata": {},
   "outputs": [],
   "source": [
    "import requests\n",
    "from bs4 import BeautifulSoup\n",
    "import pandas as pd"
   ]
  },
  {
   "cell_type": "code",
   "execution_count": 2,
   "id": "aa1bd58c-ccfb-4159-81c5-81480bde8d3a",
   "metadata": {},
   "outputs": [],
   "source": [
    "# Function to scrape fighter details from UFC Athletes\n",
    "def scrape_ufc_athletes():\n",
    "    base_url = \"https://www.ufc.com/athletes/all\"\n",
    "    fighters_data = []\n",
    "\n",
    "    # Iterate through the pages (pagination)\n",
    "    page = 1\n",
    "    while True:\n",
    "        # Fetch the page content\n",
    "        url = f\"{base_url}?page={page}\"\n",
    "        response = requests.get(url)\n",
    "        soup = BeautifulSoup(response.content, 'html.parser')\n",
    "\n",
    "        # Find fighter cards on the page\n",
    "        fighter_cards = soup.find_all('div', class_='c-listing-athlete__text')\n",
    "        if not fighter_cards:  # Stop if no fighters found (end of pagination)\n",
    "            break\n",
    "\n",
    "        # Extract fighter details from each card\n",
    "        for card in fighter_cards:\n",
    "            name = card.find('h3', class_='c-listing-athlete__name').text.strip()\n",
    "            nickname = card.find('div', class_='c-listing-athlete__nickname')\n",
    "            nickname = nickname.text.strip() if nickname else None\n",
    "            link = card.find('a', class_='c-listing-athlete__link')['href']\n",
    "            full_url = f\"https://www.ufc.com{link}\"\n",
    "\n",
    "            # Append to the data list\n",
    "            fighters_data.append({\n",
    "                'Name': name,\n",
    "                'Nickname': nickname,\n",
    "                'URL': full_url\n",
    "            })\n",
    "\n",
    "        # Move to the next page\n",
    "        page += 1\n",
    "\n",
    "    # Convert to DataFrame\n",
    "    fighters_df = pd.DataFrame(fighters_data)\n",
    "    return fighters_df"
   ]
  },
  {
   "cell_type": "code",
   "execution_count": 5,
   "id": "9f7f2f36-57c9-4048-8b36-e73f2a3f58eb",
   "metadata": {},
   "outputs": [
    {
     "ename": "AttributeError",
     "evalue": "'NoneType' object has no attribute 'text'",
     "output_type": "error",
     "traceback": [
      "\u001b[1;31m---------------------------------------------------------------------------\u001b[0m",
      "\u001b[1;31mAttributeError\u001b[0m                            Traceback (most recent call last)",
      "Cell \u001b[1;32mIn[5], line 2\u001b[0m\n\u001b[0;32m      1\u001b[0m \u001b[38;5;66;03m# Example usage\u001b[39;00m\n\u001b[1;32m----> 2\u001b[0m fighters_df \u001b[38;5;241m=\u001b[39m scrape_ufc_athletes()\n\u001b[0;32m      3\u001b[0m fighters_df\u001b[38;5;241m.\u001b[39mto_csv(\u001b[38;5;124m'\u001b[39m\u001b[38;5;124mufc_athletes_backup.csv\u001b[39m\u001b[38;5;124m'\u001b[39m, index\u001b[38;5;241m=\u001b[39m\u001b[38;5;28;01mFalse\u001b[39;00m)\n",
      "Cell \u001b[1;32mIn[2], line 21\u001b[0m, in \u001b[0;36mscrape_ufc_athletes\u001b[1;34m()\u001b[0m\n\u001b[0;32m     19\u001b[0m \u001b[38;5;66;03m# Extract fighter details from each card\u001b[39;00m\n\u001b[0;32m     20\u001b[0m \u001b[38;5;28;01mfor\u001b[39;00m card \u001b[38;5;129;01min\u001b[39;00m fighter_cards:\n\u001b[1;32m---> 21\u001b[0m     name \u001b[38;5;241m=\u001b[39m card\u001b[38;5;241m.\u001b[39mfind(\u001b[38;5;124m'\u001b[39m\u001b[38;5;124mh3\u001b[39m\u001b[38;5;124m'\u001b[39m, class_\u001b[38;5;241m=\u001b[39m\u001b[38;5;124m'\u001b[39m\u001b[38;5;124mc-listing-athlete__name\u001b[39m\u001b[38;5;124m'\u001b[39m)\u001b[38;5;241m.\u001b[39mtext\u001b[38;5;241m.\u001b[39mstrip()\n\u001b[0;32m     22\u001b[0m     nickname \u001b[38;5;241m=\u001b[39m card\u001b[38;5;241m.\u001b[39mfind(\u001b[38;5;124m'\u001b[39m\u001b[38;5;124mdiv\u001b[39m\u001b[38;5;124m'\u001b[39m, class_\u001b[38;5;241m=\u001b[39m\u001b[38;5;124m'\u001b[39m\u001b[38;5;124mc-listing-athlete__nickname\u001b[39m\u001b[38;5;124m'\u001b[39m)\n\u001b[0;32m     23\u001b[0m     nickname \u001b[38;5;241m=\u001b[39m nickname\u001b[38;5;241m.\u001b[39mtext\u001b[38;5;241m.\u001b[39mstrip() \u001b[38;5;28;01mif\u001b[39;00m nickname \u001b[38;5;28;01melse\u001b[39;00m \u001b[38;5;28;01mNone\u001b[39;00m\n",
      "\u001b[1;31mAttributeError\u001b[0m: 'NoneType' object has no attribute 'text'"
     ]
    }
   ],
   "source": [
    "# Example usage\n",
    "fighters_df = scrape_ufc_athletes()\n",
    "fighters_df.to_csv('ufc_athletes_backup.csv', index=False)"
   ]
  },
  {
   "cell_type": "code",
   "execution_count": 7,
   "id": "cdaa6838-1379-4919-b3d0-780289efa372",
   "metadata": {},
   "outputs": [
    {
     "ename": "NameError",
     "evalue": "name 'fighter_cards' is not defined",
     "output_type": "error",
     "traceback": [
      "\u001b[1;31m---------------------------------------------------------------------------\u001b[0m",
      "\u001b[1;31mNameError\u001b[0m                                 Traceback (most recent call last)",
      "Cell \u001b[1;32mIn[7], line 1\u001b[0m\n\u001b[1;32m----> 1\u001b[0m \u001b[38;5;28mprint\u001b[39m(\u001b[38;5;124mf\u001b[39m\u001b[38;5;124m\"\u001b[39m\u001b[38;5;124mFound \u001b[39m\u001b[38;5;132;01m{\u001b[39;00m\u001b[38;5;28mlen\u001b[39m(fighter_cards)\u001b[38;5;132;01m}\u001b[39;00m\u001b[38;5;124m fighter cards on this page.\u001b[39m\u001b[38;5;124m\"\u001b[39m)\n\u001b[0;32m      2\u001b[0m \u001b[38;5;28;01mfor\u001b[39;00m card \u001b[38;5;129;01min\u001b[39;00m fighter_cards:\n\u001b[0;32m      3\u001b[0m     \u001b[38;5;28mprint\u001b[39m(card\u001b[38;5;241m.\u001b[39mprettify())\n",
      "\u001b[1;31mNameError\u001b[0m: name 'fighter_cards' is not defined"
     ]
    }
   ],
   "source": [
    "print(f\"Found {len(fighter_cards)} fighter cards on this page.\")\n",
    "for card in fighter_cards:\n",
    "    print(card.prettify())  # Print each card's raw HTML"
   ]
  },
  {
   "cell_type": "code",
   "execution_count": null,
   "id": "3ccf992e-6cc8-4bd9-bb97-2edad91b59a6",
   "metadata": {},
   "outputs": [],
   "source": []
  }
 ],
 "metadata": {
  "kernelspec": {
   "display_name": "Python 3 (ipykernel)",
   "language": "python",
   "name": "python3"
  },
  "language_info": {
   "codemirror_mode": {
    "name": "ipython",
    "version": 3
   },
   "file_extension": ".py",
   "mimetype": "text/x-python",
   "name": "python",
   "nbconvert_exporter": "python",
   "pygments_lexer": "ipython3",
   "version": "3.12.7"
  }
 },
 "nbformat": 4,
 "nbformat_minor": 5
}
