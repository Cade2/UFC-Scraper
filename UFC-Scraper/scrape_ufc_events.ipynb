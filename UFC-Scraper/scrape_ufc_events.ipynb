{
 "cells": [
  {
   "cell_type": "code",
   "execution_count": 1,
   "id": "dd90c7fb-8bba-4437-a680-7d4021584683",
   "metadata": {},
   "outputs": [],
   "source": [
    "import requests\n",
    "from bs4 import BeautifulSoup\n",
    "import pandas as pd"
   ]
  },
  {
   "cell_type": "code",
   "execution_count": 2,
   "id": "d539d5f1-cbba-40ef-ada9-605e63b2bdc4",
   "metadata": {},
   "outputs": [],
   "source": [
    "def scrape_ufc_events():\n",
    "    url = \"https://www.ufc.com/events\"\n",
    "    response = requests.get(url)\n",
    "    soup = BeautifulSoup(response.content, 'html.parser')\n",
    "\n",
    "    events_data = []\n",
    "    event_cards = soup.find_all('div', class_='c-card-event--result')\n",
    "\n",
    "    for card in event_cards:\n",
    "        name = card.find('h3', class_='c-card-event--result__headline').text.strip()\n",
    "        date = card.find('div', class_='c-card-event--result__date').text.strip()\n",
    "        location = card.find('div', class_='c-card-event--result__location')\n",
    "        location = location.text.strip() if location else None\n",
    "\n",
    "        events_data.append({\n",
    "            'Event Name': name,\n",
    "            'Date': date,\n",
    "            'Location': location\n",
    "        })\n",
    "\n",
    "    # Convert to DataFrame\n",
    "    events_df = pd.DataFrame(events_data)\n",
    "    return events_df\n"
   ]
  },
  {
   "cell_type": "code",
   "execution_count": 3,
   "id": "69832353-8d78-4fdc-bf9d-362be7e21477",
   "metadata": {},
   "outputs": [],
   "source": [
    "# Example usage\n",
    "events_df = scrape_ufc_events()\n",
    "events_df.to_csv('ufc_events_backup.csv', index=False)"
   ]
  },
  {
   "cell_type": "code",
   "execution_count": null,
   "id": "aec460e5-ca6f-4811-b0d2-b902b2759878",
   "metadata": {},
   "outputs": [],
   "source": []
  }
 ],
 "metadata": {
  "kernelspec": {
   "display_name": "Python 3 (ipykernel)",
   "language": "python",
   "name": "python3"
  },
  "language_info": {
   "codemirror_mode": {
    "name": "ipython",
    "version": 3
   },
   "file_extension": ".py",
   "mimetype": "text/x-python",
   "name": "python",
   "nbconvert_exporter": "python",
   "pygments_lexer": "ipython3",
   "version": "3.12.7"
  }
 },
 "nbformat": 4,
 "nbformat_minor": 5
}
