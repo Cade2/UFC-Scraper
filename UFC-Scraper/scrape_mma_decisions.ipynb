{
 "cells": [
  {
   "cell_type": "code",
   "execution_count": 1,
   "id": "33142113-f657-460c-be7e-c10e1adcaa57",
   "metadata": {},
   "outputs": [],
   "source": [
    "import requests\n",
    "from bs4 import BeautifulSoup\n",
    "import pandas as pd"
   ]
  },
  {
   "cell_type": "code",
   "execution_count": 2,
   "id": "1b522771-978d-4fe1-a162-7b45dbb9099e",
   "metadata": {},
   "outputs": [],
   "source": [
    "def scrape_mma_decisions():\n",
    "    base_url = \"https://mmadecisions.com/decisions-by-fighter/\"\n",
    "    response = requests.get(base_url)\n",
    "    soup = BeautifulSoup(response.content, 'html.parser')\n",
    "\n",
    "    fighter_data = []\n",
    "    fighter_links = soup.find_all('a', class_='fighter-link')\n",
    "\n",
    "    for link in fighter_links:\n",
    "        name = link.text.strip()\n",
    "        profile_url = f\"https://mmadecisions.com{link['href']}\"\n",
    "\n",
    "        fighter_data.append({\n",
    "            'Name': name,\n",
    "            'URL': profile_url\n",
    "        })\n",
    "\n",
    "    # Convert to DataFrame\n",
    "    fighter_df = pd.DataFrame(fighter_data)\n",
    "    return fighter_df"
   ]
  },
  {
   "cell_type": "code",
   "execution_count": 3,
   "id": "bb078b9f-cf62-407b-954f-103a66eaf6e5",
   "metadata": {},
   "outputs": [],
   "source": [
    "# Example usage\n",
    "mma_decisions_df = scrape_mma_decisions()\n",
    "mma_decisions_df.to_csv('mma_decisions_backup.csv', index=False)"
   ]
  },
  {
   "cell_type": "code",
   "execution_count": null,
   "id": "b6f14852-8eaf-4b42-97e4-a3c1ccfdf144",
   "metadata": {},
   "outputs": [],
   "source": []
  }
 ],
 "metadata": {
  "kernelspec": {
   "display_name": "Python 3 (ipykernel)",
   "language": "python",
   "name": "python3"
  },
  "language_info": {
   "codemirror_mode": {
    "name": "ipython",
    "version": 3
   },
   "file_extension": ".py",
   "mimetype": "text/x-python",
   "name": "python",
   "nbconvert_exporter": "python",
   "pygments_lexer": "ipython3",
   "version": "3.12.7"
  }
 },
 "nbformat": 4,
 "nbformat_minor": 5
}
