{
 "cells": [
  {
   "cell_type": "code",
   "execution_count": 1,
   "id": "d508347d-6cea-4481-8ee4-8edb6f8cc041",
   "metadata": {},
   "outputs": [],
   "source": [
    "import os\n",
    "import requests\n",
    "import pandas as pd\n",
    "import time\n",
    "import json\n",
    "from bs4 import BeautifulSoup\n",
    "from tqdm import tqdm"
   ]
  },
  {
   "cell_type": "code",
   "execution_count": 2,
   "id": "f51c3f59-ef4e-402f-ac02-b9d2edc3957e",
   "metadata": {},
   "outputs": [],
   "source": [
    "# Create directories for saving data\n",
    "DATA_DIR = \"UFC_Data\"\n",
    "UPCOMING_DIR = \"Upcoming\"\n",
    "os.makedirs(DATA_DIR, exist_ok=True)\n",
    "os.makedirs(UPCOMING_DIR, exist_ok=True)"
   ]
  },
  {
   "cell_type": "code",
   "execution_count": 3,
   "id": "1550b37a-bee8-425b-87e7-88c87f8bea8a",
   "metadata": {},
   "outputs": [],
   "source": [
    "# Base URLs\n",
    "SEARCH_API = \"https://liveapi.yext.com/v2/accounts/me/answers/vertical/query\"\n",
    "UFC_EVENT_API = \"https://d29dxerjsp82wz.cloudfront.net/api/v3/event/live/{}.json\"\n",
    "HEADERS = {\n",
    "    \"User-Agent\": \"Mozilla/5.0 (Windows NT 10.0; Win64; x64) AppleWebKit/537.36 (KHTML, like Gecko) Chrome/130.0.0.0 Safari/537.36 OPR/115.0.0.0\"\n",
    "}"
   ]
  },
  {
   "cell_type": "code",
   "execution_count": 4,
   "id": "c7e4a050-a4b7-45f4-aee6-f1607cb25202",
   "metadata": {},
   "outputs": [],
   "source": [
    "# Search API for past UFC events (Yext API)\n",
    "SEARCH_API_URL = \"https://liveapi.yext.com/v2/accounts/me/answers/vertical/query\"\n",
    "API_PARAMS = {\n",
    "    \"experienceKey\": \"answers-en\",\n",
    "    \"api_key\": \"850a88aeb3c29599ce2db46832aa229f\",\n",
    "    \"v\": \"20220511\",\n",
    "    \"version\": \"PRODUCTION\",\n",
    "    \"locale\": \"en\",\n",
    "    \"input\": \"Past Events\",\n",
    "    \"verticalKey\": \"events\",\n",
    "    \"limit\": 50,  # Increase limit for more results\n",
    "    \"offset\": 0,\n",
    "    \"retrieveFacets\": \"true\",\n",
    "    \"facetFilters\": \"{}\",\n",
    "    \"session_id\": \"38313516-bbb1-4784-835b-3017a3b6c79b\",\n",
    "    \"sessionTrackingEnabled\": \"true\",\n",
    "    \"sortBys\": \"[]\",\n",
    "    \"referrerPageUrl\": \"https://www.ufc.com/\",\n",
    "    \"source\": \"STANDARD\",\n",
    "    \"jsLibVersion\": \"v1.14.3\",\n",
    "}"
   ]
  },
  {
   "cell_type": "code",
   "execution_count": 5,
   "id": "95542eb0-6942-4059-a128-6642c0143d4b",
   "metadata": {},
   "outputs": [],
   "source": [
    "# UFC API URL for fetching event details\n",
    "UFC_EVENT_API = \"https://d29dxerjsp82wz.cloudfront.net/api/v3/event/live/{}.json\"\n",
    "# Headers to mimic a real browser\n",
    "HEADERS = {\n",
    "    \"User-Agent\": \"Mozilla/5.0 (Windows NT 10.0; Win64; x64) AppleWebKit/537.36 (KHTML, like Gecko) Chrome/130.0.0.0 Safari/537.36\"\n",
    "}"
   ]
  },
  {
   "cell_type": "code",
   "execution_count": 6,
   "id": "d5a20061-8a0b-4092-91e0-198040b85bee",
   "metadata": {},
   "outputs": [],
   "source": [
    "def get_past_events():\n",
    "    \"\"\"Fetches all past UFC events using the search API with pagination.\"\"\"\n",
    "    events = []\n",
    "    offset = 0\n",
    "    response = requests.get(SEARCH_API, headers=HEADERS, params=API_PARAMS).json()\n",
    "    total_events = response.get(\"response\", {}).get(\"resultsCount\", 0)\n",
    "    \n",
    "    while offset < total_events:\n",
    "        API_PARAMS[\"offset\"] = offset\n",
    "        response = requests.get(SEARCH_API, headers=HEADERS, params=API_PARAMS).json()\n",
    "        results = response.get(\"response\", {}).get(\"results\", [])\n",
    "        \n",
    "        for event in results:\n",
    "            event_data = event.get(\"data\", {})\n",
    "            event_id = event_data.get(\"c_eventID\")\n",
    "            event_name = event_data.get(\"name\")\n",
    "            event_date = event_data.get(\"c_eventDate\")\n",
    "            event_time = event_data.get(\"c_eventStartTime\")\n",
    "            time_zone = event_data.get(\"c_eventTimeZone\")\n",
    "            location = f\"{event_data.get('c_eventCity', '')}, {event_data.get('c_eventState', '')}, {event_data.get('c_eventCountry', '')}\".strip(', ')\n",
    "            venue = event_data.get(\"venueName\")\n",
    "            url = event_data.get(\"landingPageUrl\", \"\")\n",
    "            \n",
    "            if event_date and event_date < time.strftime('%Y-%m-%d'):\n",
    "                events.append({\n",
    "                    \"Event\": event_name,\n",
    "                    \"Date\": event_date,\n",
    "                    \"Start Time\": event_time,\n",
    "                    \"Time Zone\": time_zone,\n",
    "                    \"Location\": location,\n",
    "                    \"Venue\": venue,\n",
    "                    \"URL\": url,\n",
    "                    \"Event ID\": event_id\n",
    "                })\n",
    "        \n",
    "        offset += 50\n",
    "    \n",
    "    return events"
   ]
  },
  {
   "cell_type": "code",
   "execution_count": 7,
   "id": "96837bf5-cf15-4606-ac07-d528c560bdc2",
   "metadata": {},
   "outputs": [],
   "source": [
    "def get_event_details(event_id):\n",
    "    \"\"\"Fetch event details using the UFC API.\"\"\"\n",
    "    url = UFC_EVENT_API.format(event_id)\n",
    "    try:\n",
    "        response = requests.get(url, headers=HEADERS, timeout=10)\n",
    "        if response.status_code == 200:\n",
    "            return response.json()\n",
    "        else:\n",
    "            print(f\"⚠️ Failed to fetch details for event {event_id}. Status: {response.status_code}\")\n",
    "    except Exception as e:\n",
    "        print(f\"⚠️ Error fetching event {event_id}: {e}\")\n",
    "    return {}"
   ]
  },
  {
   "cell_type": "code",
   "execution_count": 8,
   "id": "39ff5d50-693c-4dbc-a993-eca777936765",
   "metadata": {},
   "outputs": [],
   "source": [
    "def get_fight_details(event_id):\n",
    "    \"\"\"Fetch fight details from the UFC event API.\"\"\"\n",
    "    url = UFC_EVENT_API.format(event_id)\n",
    "    response = requests.get(url, headers=HEADERS)\n",
    "    if response.status_code != 200:\n",
    "        return [], []\n",
    "    \n",
    "    event_data = response.json().get(\"LiveEventDetail\", {})\n",
    "    fights = event_data.get(\"FightCard\", [])\n",
    "    fight_details = []\n",
    "    fight_results = []\n",
    "    \n",
    "    for fight in fights:\n",
    "        fighters = fight.get(\"Fighters\", [])\n",
    "        if len(fighters) < 2:\n",
    "            continue\n",
    "        \n",
    "        fight_id = fight.get(\"FightId\")\n",
    "        fight_url = f\"https://www.ufc.com/event/{event_id}#{fight_id}\"\n",
    "        bout = f\"{fighters[0]['Name']['FirstName']} {fighters[0]['Name']['LastName']} vs. {fighters[1]['Name']['FirstName']} {fighters[1]['Name']['LastName']}\"\n",
    "        \n",
    "        fight_details.append({\n",
    "            \"Event\": event_data.get(\"Name\"),\n",
    "            \"Bout\": bout,\n",
    "            \"Card Segment\": fight.get(\"CardSegment\"),\n",
    "            \"URL\": fight_url\n",
    "        })\n",
    "        \n",
    "        result = fight.get(\"Result\", {})\n",
    "        fight_results.append({\n",
    "            \"Event\": event_data.get(\"Name\"),\n",
    "            \"Date\": event_data.get(\"StartTime\"),\n",
    "            \"Location\": event_data.get(\"Location\", {}).get(\"City\"),\n",
    "            \"Bout\": bout,\n",
    "            \"Card Segment\": fight.get(\"CardSegment\"),\n",
    "            \"Winner\": result.get(\"Outcome\", \"Unknown\"),\n",
    "            \"Method\": result.get(\"Method\", \"Unknown\"),\n",
    "            \"Ending Round\": result.get(\"EndingRound\", \"Unknown\"),\n",
    "            \"Ending Time\": result.get(\"EndingTime\", \"Unknown\"),\n",
    "            \"Referee\": f\"{fight.get('Referee', {}).get('FirstName', '')} {fight.get('Referee', {}).get('LastName', '')}\".strip()\n",
    "        })\n",
    "    \n",
    "    return fight_details, fight_results\n"
   ]
  },
  {
   "cell_type": "code",
   "execution_count": 9,
   "id": "9070b38c-9abb-4683-a996-873775130676",
   "metadata": {},
   "outputs": [],
   "source": [
    "def save_to_csv(filename, data, folder=DATA_DIR):\n",
    "    \"\"\"Save list of dictionaries to a CSV file.\"\"\"\n",
    "    df = pd.DataFrame(data)\n",
    "    df.to_csv(os.path.join(folder, filename), index=False)"
   ]
  },
  {
   "cell_type": "code",
   "execution_count": 10,
   "id": "1c632aa8-050f-4f59-9fc0-ca90b76bb90e",
   "metadata": {},
   "outputs": [],
   "source": [
    "def main():\n",
    "    print(\"Fetching past UFC events...\")\n",
    "    events = get_past_events()\n",
    "    save_to_csv(\"UFC_Event_Details.csv\", events)\n",
    "    \n",
    "    fight_details = []\n",
    "    fight_results = []\n",
    "    for event in tqdm(events, desc=\"Fetching fight details\"):\n",
    "        event_id = event[\"Event ID\"]\n",
    "        details, results = get_fight_details(event_id)\n",
    "        fight_details.extend(details)\n",
    "        fight_results.extend(results)\n",
    "        time.sleep(1)\n",
    "    \n",
    "    save_to_csv(\"UFC_Fight_Details.csv\", fight_details)\n",
    "    save_to_csv(\"UFC_Fight_Results.csv\", fight_results)\n",
    "    print(\"Data scraping complete. CSVs saved in UFC_Data/\")"
   ]
  },
  {
   "cell_type": "code",
   "execution_count": 11,
   "id": "ea9f9a41-16c8-4255-900c-cbb47136cb69",
   "metadata": {},
   "outputs": [
    {
     "name": "stdout",
     "output_type": "stream",
     "text": [
      "Fetching past UFC events...\n"
     ]
    },
    {
     "name": "stderr",
     "output_type": "stream",
     "text": [
      "Fetching fight details: 100%|████████████████████████████████████████████████████████| 719/719 [27:21<00:00,  2.28s/it]"
     ]
    },
    {
     "name": "stdout",
     "output_type": "stream",
     "text": [
      "Data scraping complete. CSVs saved in UFC_Data/\n"
     ]
    },
    {
     "name": "stderr",
     "output_type": "stream",
     "text": [
      "\n"
     ]
    }
   ],
   "source": [
    "if __name__ == \"__main__\":\n",
    "    main()"
   ]
  },
  {
   "cell_type": "code",
   "execution_count": null,
   "id": "74de4a1f-2284-4ae2-a7a7-0e42caf17e34",
   "metadata": {},
   "outputs": [],
   "source": []
  }
 ],
 "metadata": {
  "kernelspec": {
   "display_name": "Python 3 (ipykernel)",
   "language": "python",
   "name": "python3"
  },
  "language_info": {
   "codemirror_mode": {
    "name": "ipython",
    "version": 3
   },
   "file_extension": ".py",
   "mimetype": "text/x-python",
   "name": "python",
   "nbconvert_exporter": "python",
   "pygments_lexer": "ipython3",
   "version": "3.12.7"
  }
 },
 "nbformat": 4,
 "nbformat_minor": 5
}
