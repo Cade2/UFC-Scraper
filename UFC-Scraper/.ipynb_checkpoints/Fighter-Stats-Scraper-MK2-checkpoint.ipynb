{
 "cells": [
  {
   "cell_type": "code",
   "execution_count": 6,
   "id": "d98b5c2b-3851-4c43-82c6-8a0d5cef03ec",
   "metadata": {},
   "outputs": [],
   "source": [
    "import requests\n",
    "from bs4 import BeautifulSoup\n",
    "import pandas as pd\n",
    "import time\n",
    "import logging\n",
    "from tqdm.notebook import tqdm_notebook\n",
    "from concurrent.futures import ThreadPoolExecutor\n",
    "import random\n",
    "import yaml\n",
    "import numpy as np\n",
    "from fuzzywuzzy import fuzz"
   ]
  },
  {
   "cell_type": "code",
   "execution_count": 7,
   "id": "a3abfd72-539a-4ba3-a734-a25f85e19ed9",
   "metadata": {},
   "outputs": [],
   "source": [
    "# Logging setup\n",
    "logging.basicConfig(level=logging.INFO, format=\"%(asctime)s - %(levelname)s - %(message)s\")\n",
    "\n",
    "# Load configuration\n",
    "try:\n",
    "    with open(\"config.yaml\", \"r\") as file:\n",
    "        config = yaml.safe_load(file)\n",
    "except FileNotFoundError:\n",
    "    raise FileNotFoundError(\"The 'config.yaml' file is missing. Please ensure it exists in the directory.\")\n"
   ]
  },
  {
   "cell_type": "code",
   "execution_count": 8,
   "id": "27e5ee81-d89a-422c-8374-90d41763a216",
   "metadata": {},
   "outputs": [],
   "source": [
    "# Randomized sleep to mimic human behavior\n",
    "def random_sleep():\n",
    "    time.sleep(random.uniform(*config[\"sleep_range\"]))"
   ]
  },
  {
   "cell_type": "code",
   "execution_count": 9,
   "id": "d7aac89b-6e37-4115-8635-c497836fb862",
   "metadata": {},
   "outputs": [],
   "source": [
    "# Fetch URL with retry logic and exponential backoff\n",
    "def fetch_with_retry(url, max_retries=config[\"retries\"]):\n",
    "    for i in range(max_retries):\n",
    "        try:\n",
    "            response = requests.get(url, headers=config[\"headers\"], timeout=10)\n",
    "            if response.status_code == 200:\n",
    "                return response\n",
    "            elif response.status_code == 404:\n",
    "                logging.warning(f\"404 Not Found: {url}\")\n",
    "                return None\n",
    "        except requests.RequestException as e:\n",
    "            logging.warning(f\"Retrying ({i + 1}/{max_retries}) for {url}: {e}\")\n",
    "        time.sleep(random.uniform(2, 5))  # Randomized delay\n",
    "    logging.error(f\"Failed to fetch {url} after {max_retries} retries\")\n",
    "    return None"
   ]
  },
  {
   "cell_type": "code",
   "execution_count": 10,
   "id": "c774945f-84e4-4a2a-ab0f-51e270022849",
   "metadata": {},
   "outputs": [],
   "source": [
    "### STEP 1: SCRAPE FIGHTER LISTS ###\n",
    "\n",
    "# UFC Stats: Generate fighter list URLs\n",
    "def generate_ufcstats_urls():\n",
    "    base_url = \"http://ufcstats.com/statistics/fighters?char={}&page={}\"\n",
    "    urls = []\n",
    "    for char in \"abcdefghijklmnopqrstuvwxyz\":\n",
    "        page = 1\n",
    "        while True:\n",
    "            url = base_url.format(char, page)\n",
    "            response = fetch_with_retry(url)\n",
    "            if response and \"No fighter\" not in response.text:\n",
    "                urls.append(url)\n",
    "                page += 1\n",
    "            else:\n",
    "                break\n",
    "    return urls\n",
    "\n",
    "# UFC Stats: Scrape fighter names and URLs\n",
    "def scrape_ufcstats_fighter_list(url):\n",
    "    response = fetch_with_retry(url)\n",
    "    if not response:\n",
    "        return []\n",
    "\n",
    "    soup = BeautifulSoup(response.text, \"html.parser\")\n",
    "    fighter_links = soup.find_all(\"a\", class_=\"b-link b-link_style_black\")\n",
    "    return [{\"FIGHTER\": link.text.strip(), \"UFC_URL\": link[\"href\"]} for link in fighter_links]\n"
   ]
  },
  {
   "cell_type": "code",
   "execution_count": 11,
   "id": "9ad65f0e-b5da-4edf-a4ef-2463189ff547",
   "metadata": {},
   "outputs": [],
   "source": [
    "# UFC Official: Generate fighter list\n",
    "def scrape_ufc_fighter_list():\n",
    "    base_url = \"https://www.ufc.com/athletes/all\"\n",
    "    response = fetch_with_retry(base_url)\n",
    "    if not response:\n",
    "        return []\n",
    "\n",
    "    soup = BeautifulSoup(response.text, \"html.parser\")\n",
    "    fighter_links = soup.find_all(\"a\", class_=\"c-card-athlete__link\")\n",
    "    return [{\"FIGHTER\": link.text.strip(), \"UFC_URL\": f\"https://www.ufc.com{link['href']}\"} for link in fighter_links]"
   ]
  },
  {
   "cell_type": "code",
   "execution_count": 12,
   "id": "05e0451c-7157-4c7b-8289-830e64ea66e5",
   "metadata": {},
   "outputs": [],
   "source": [
    "# MMA Decisions: Generate fighter list URLs\n",
    "def generate_mmadecisions_urls():\n",
    "    base_url = \"https://mmadecisions.com/decisions-by-fighter/{}\"\n",
    "    return [base_url.format(char) for char in \"abcdefghijklmnopqrstuvwxyz\"]"
   ]
  },
  {
   "cell_type": "code",
   "execution_count": 14,
   "id": "d5204a68-1adb-41a6-84e3-6799a59dc362",
   "metadata": {},
   "outputs": [],
   "source": [
    "# MMA Decisions: Scrape fighter names and URLs\n",
    "def scrape_mmadecisions_fighter_list(url):\n",
    "    response = fetch_with_retry(url)\n",
    "    if not response:\n",
    "        return []\n",
    "\n",
    "    soup = BeautifulSoup(response.text, \"html.parser\")\n",
    "    rows = soup.find_all(\"a\", href=True)\n",
    "    fighters = []\n",
    "    for row in rows:\n",
    "        if \"/fighter/\" in row[\"href\"]:\n",
    "            name = row.text.strip()\n",
    "            fighter_url = f\"https://mmadecisions.com{row['href']}\"\n",
    "            fighters.append({\"FIGHTER\": name, \"MMADECISIONS_URL\": fighter_url})\n",
    "    return fighters"
   ]
  },
  {
   "cell_type": "code",
   "execution_count": 15,
   "id": "1207d9a6-416e-4ed6-b417-761f3bc0c5ab",
   "metadata": {},
   "outputs": [],
   "source": [
    "# Combine all fighter lists\n",
    "def scrape_all_fighter_lists():\n",
    "    logging.info(\"Scraping fighter lists from UFC Stats, UFC Official, and MMA Decisions...\")\n",
    "    fighter_list = []\n",
    "\n",
    "    # UFC Stats\n",
    "    ufcstats_urls = generate_ufcstats_urls()\n",
    "    for url in ufcstats_urls:\n",
    "        fighter_list.extend(scrape_ufcstats_fighter_list(url))\n",
    "\n",
    "    # UFC Official\n",
    "    fighter_list.extend(scrape_ufc_fighter_list())\n",
    "\n",
    "    # MMA Decisions\n",
    "    mmadecisions_urls = generate_mmadecisions_urls()\n",
    "    for url in mmadecisions_urls:\n",
    "        fighter_list.extend(scrape_mmadecisions_fighter_list(url))\n",
    "\n",
    "    # Deduplicate by fighter name\n",
    "    fighter_df = pd.DataFrame(fighter_list).drop_duplicates(subset=[\"FIGHTER\"]).reset_index(drop=True)\n",
    "    return fighter_df"
   ]
  },
  {
   "cell_type": "code",
   "execution_count": 16,
   "id": "3cb4d21b-f1f8-4203-8469-6a33399f33a6",
   "metadata": {},
   "outputs": [],
   "source": [
    "### STEP 2: SCRAPE FIGHTER DETAILS ###\n",
    "\n",
    "# UFC Stats: Scrape fighter details\n",
    "def scrape_ufcstats_details(url):\n",
    "    response = fetch_with_retry(url)\n",
    "    if not response or response.status_code == 404:\n",
    "        return {}\n",
    "\n",
    "    soup = BeautifulSoup(response.text, \"html.parser\")\n",
    "    details = {}\n",
    "    try:\n",
    "        stats_table = soup.find(\"table\", class_=\"b-list__info-box\")\n",
    "        if not stats_table:\n",
    "            return {}\n",
    "\n",
    "        rows = stats_table.find_all(\"tr\")\n",
    "        for row in rows:\n",
    "            cells = row.find_all(\"td\")\n",
    "            if len(cells) == 2:\n",
    "                label = cells[0].text.strip()\n",
    "                value = cells[1].text.strip()\n",
    "                if label == \"Height:\":\n",
    "                    details[\"HEIGHT\"] = value\n",
    "                elif label == \"Weight:\":\n",
    "                    details[\"WEIGHT\"] = value\n",
    "                elif label == \"Reach:\":\n",
    "                    details[\"REACH\"] = value\n",
    "                elif label == \"Stance:\":\n",
    "                    details[\"STANCE\"] = value\n",
    "                elif label == \"DOB:\":\n",
    "                    details[\"DOB\"] = value\n",
    "    except Exception as e:\n",
    "        logging.error(f\"Error parsing UFC Stats: {url} - {e}\")\n",
    "    return details"
   ]
  },
  {
   "cell_type": "code",
   "execution_count": 17,
   "id": "e19a53b6-50b1-4c2a-bab2-e110ea8dc622",
   "metadata": {},
   "outputs": [],
   "source": [
    "# UFC Official: Scrape fighter details\n",
    "def scrape_ufc_details(fighter_name):\n",
    "    base_url = f\"https://www.ufc.com/athlete/{fighter_name.replace(' ', '-').lower()}\"\n",
    "    response = fetch_with_retry(base_url)\n",
    "    if not response or response.status_code == 404:\n",
    "        return {}\n",
    "\n",
    "    soup = BeautifulSoup(response.text, \"html.parser\")\n",
    "    details = {}\n",
    "    try:\n",
    "        bio_sections = soup.find_all(\"div\", class_=\"c-bio__text\")\n",
    "        for section in bio_sections:\n",
    "            label = section.find_previous(\"div\", class_=\"c-bio__label\").text.strip()\n",
    "            value = section.text.strip()\n",
    "            if label == \"Height\":\n",
    "                details[\"HEIGHT\"] = value\n",
    "            elif label == \"Weight\":\n",
    "                details[\"WEIGHT\"] = value\n",
    "            elif label == \"Reach\":\n",
    "                details[\"REACH\"] = value\n",
    "    except Exception as e:\n",
    "        logging.warning(f\"Error parsing UFC Official page: {base_url} - {e}\")\n",
    "    return details"
   ]
  },
  {
   "cell_type": "code",
   "execution_count": 19,
   "id": "533f32c8-6479-416b-bbd8-d30423ffa533",
   "metadata": {},
   "outputs": [],
   "source": [
    "# MMA Decisions: Scrape fighter details\n",
    "def scrape_mmadecisions_details(fighter_name):\n",
    "    base_url = f\"https://mmadecisions.com/search.php?search_query={fighter_name.replace(' ', '+')}\"\n",
    "    response = fetch_with_retry(base_url)\n",
    "    if not response:\n",
    "        return {}\n",
    "\n",
    "    soup = BeautifulSoup(response.text, \"html.parser\")\n",
    "    details = {}\n",
    "    return details"
   ]
  },
  {
   "cell_type": "code",
   "execution_count": 20,
   "id": "dcc9d19b-3a99-499b-b9f7-fb87c22852f8",
   "metadata": {},
   "outputs": [],
   "source": [
    "# Aggregate fighter details from all sources\n",
    "def aggregate_fighter_details(fighter):\n",
    "    details = {\"FIGHTER\": fighter[\"FIGHTER\"]}\n",
    "    if \"UFC_URL\" in fighter:\n",
    "        details.update(scrape_ufcstats_details(fighter[\"UFC_URL\"]))\n",
    "    details.update(scrape_ufc_details(fighter[\"FIGHTER\"]))\n",
    "    return details"
   ]
  },
  {
   "cell_type": "code",
   "execution_count": 21,
   "id": "22f00bb1-c7bf-4075-8e11-9cbd2a5c882e",
   "metadata": {},
   "outputs": [],
   "source": [
    "# Parallel processing of fighter details\n",
    "def process_fighters_parallel(fighter_list):\n",
    "    with ThreadPoolExecutor(max_workers=10) as executor:\n",
    "        results = list(executor.map(aggregate_fighter_details, fighter_list.to_dict(\"records\")))\n",
    "    return results"
   ]
  },
  {
   "cell_type": "code",
   "execution_count": null,
   "id": "9ca523f7-d166-4f2d-a593-1bdcf1a4bb9b",
   "metadata": {},
   "outputs": [
    {
     "name": "stderr",
     "output_type": "stream",
     "text": [
      "2025-01-27 15:16:55,442 - INFO - Scraping fighter lists from UFC Stats, UFC Official, and MMA Decisions...\n"
     ]
    }
   ],
   "source": [
    "### MAIN EXECUTION ###\n",
    "if __name__ == \"__main__\":\n",
    "    fighter_list_df = scrape_all_fighter_lists()\n",
    "    fighter_list_df.to_csv(\"fighter_list.csv\", index=False)\n",
    "    logging.info(f\"Fighter list saved with {len(fighter_list_df)} fighters.\")\n",
    "\n",
    "    fighter_details = process_fighters_parallel(fighter_list_df)\n",
    "    fighter_details_df = pd.DataFrame(fighter_details)\n",
    "    fighter_details_df.to_csv(\"fighter_details.csv\", index=False)\n",
    "    logging.info(\"Fighter details saved.\")"
   ]
  },
  {
   "cell_type": "code",
   "execution_count": null,
   "id": "d5c584e2-f28f-4892-9465-1265be8cd55c",
   "metadata": {},
   "outputs": [],
   "source": []
  }
 ],
 "metadata": {
  "kernelspec": {
   "display_name": "Python 3 (ipykernel)",
   "language": "python",
   "name": "python3"
  },
  "language_info": {
   "codemirror_mode": {
    "name": "ipython",
    "version": 3
   },
   "file_extension": ".py",
   "mimetype": "text/x-python",
   "name": "python",
   "nbconvert_exporter": "python",
   "pygments_lexer": "ipython3",
   "version": "3.12.7"
  }
 },
 "nbformat": 4,
 "nbformat_minor": 5
}
