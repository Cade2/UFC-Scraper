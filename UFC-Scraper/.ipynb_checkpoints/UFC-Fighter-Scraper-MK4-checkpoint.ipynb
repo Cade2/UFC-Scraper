{
 "cells": [
  {
   "cell_type": "markdown",
   "id": "b3a94112-3613-40bb-a687-936f3098eef5",
   "metadata": {},
   "source": [
    "**Overview**\n",
    "This notebook parses all fighters' details and tale of the tape\n",
    "\n",
    "**Scrape ufc fighters' details**\n",
    "Includes \n",
    "* First\n",
    "* Last\n",
    "* Nickname\n",
    "* Url\n",
    "\n",
    "**From url scrape scrape fighter's tale of the tape**\n",
    "Includes \n",
    "* Fighter\n",
    "* Height\n",
    "* Weight\n",
    "* Reach\n",
    "* Stance\n",
    "* DOB\n"
   ]
  },
  {
   "cell_type": "code",
   "execution_count": 1,
   "id": "d7693574-dec1-4bee-bcb6-1d89bdf187f5",
   "metadata": {},
   "outputs": [],
   "source": [
    "# imports\n",
    "import pandas as pd\n",
    "import numpy as np\n",
    "from tqdm.notebook import tqdm_notebook\n",
    "\n",
    "# import library\n",
    "import scrape_ufc_stats_library as LIB\n",
    "import importlib\n",
    "importlib.reload(LIB)\n",
    "\n",
    "# import configs\n",
    "import yaml\n",
    "config = yaml.safe_load(open('scrape_ufc_stats_config.yaml'))"
   ]
  },
  {
   "cell_type": "markdown",
   "id": "b4570682-8675-4bab-a6dc-73b02273b4be",
   "metadata": {},
   "source": [
    "## Parse Fighter Details\n",
    "Includes \n",
    "* First\n",
    "* Last\n",
    "* Nickname\n",
    "* Url"
   ]
  },
  {
   "cell_type": "code",
   "execution_count": 2,
   "id": "089a7f9f-88f4-489e-9dc2-1d742d972da0",
   "metadata": {},
   "outputs": [],
   "source": [
    "# generate list of urls for fighter details\n",
    "list_of_alphabetical_urls = LIB.generate_alphabetical_urls()"
   ]
  },
  {
   "cell_type": "code",
   "execution_count": 3,
   "id": "d6f0a976-ab09-4e72-b024-10c8febca822",
   "metadata": {},
   "outputs": [
    {
     "data": {
      "application/vnd.jupyter.widget-view+json": {
       "model_id": "196441d91a3a4eff9f47214d21be02c6",
       "version_major": 2,
       "version_minor": 0
      },
      "text/plain": [
       "  0%|          | 0/26 [00:00<?, ?it/s]"
      ]
     },
     "metadata": {},
     "output_type": "display_data"
    },
    {
     "data": {
      "text/html": [
       "<div>\n",
       "<style scoped>\n",
       "    .dataframe tbody tr th:only-of-type {\n",
       "        vertical-align: middle;\n",
       "    }\n",
       "\n",
       "    .dataframe tbody tr th {\n",
       "        vertical-align: top;\n",
       "    }\n",
       "\n",
       "    .dataframe thead th {\n",
       "        text-align: right;\n",
       "    }\n",
       "</style>\n",
       "<table border=\"1\" class=\"dataframe\">\n",
       "  <thead>\n",
       "    <tr style=\"text-align: right;\">\n",
       "      <th></th>\n",
       "      <th>FIRST</th>\n",
       "      <th>LAST</th>\n",
       "      <th>NICKNAME</th>\n",
       "      <th>URL</th>\n",
       "    </tr>\n",
       "  </thead>\n",
       "  <tbody>\n",
       "    <tr>\n",
       "      <th>0</th>\n",
       "      <td>Tom</td>\n",
       "      <td>Aaron</td>\n",
       "      <td></td>\n",
       "      <td>http://ufcstats.com/fighter-details/93fe7332d1...</td>\n",
       "    </tr>\n",
       "    <tr>\n",
       "      <th>1</th>\n",
       "      <td>Danny</td>\n",
       "      <td>Abbadi</td>\n",
       "      <td>The Assassin</td>\n",
       "      <td>http://ufcstats.com/fighter-details/15df64c02b...</td>\n",
       "    </tr>\n",
       "    <tr>\n",
       "      <th>2</th>\n",
       "      <td>Nariman</td>\n",
       "      <td>Abbasov</td>\n",
       "      <td>Bayraktar</td>\n",
       "      <td>http://ufcstats.com/fighter-details/59a9d6dac6...</td>\n",
       "    </tr>\n",
       "    <tr>\n",
       "      <th>3</th>\n",
       "      <td>David</td>\n",
       "      <td>Abbott</td>\n",
       "      <td>Tank</td>\n",
       "      <td>http://ufcstats.com/fighter-details/b361180739...</td>\n",
       "    </tr>\n",
       "    <tr>\n",
       "      <th>4</th>\n",
       "      <td>Hamdy</td>\n",
       "      <td>Abdelwahab</td>\n",
       "      <td>The Hammer</td>\n",
       "      <td>http://ufcstats.com/fighter-details/3329d692ae...</td>\n",
       "    </tr>\n",
       "    <tr>\n",
       "      <th>...</th>\n",
       "      <td>...</td>\n",
       "      <td>...</td>\n",
       "      <td>...</td>\n",
       "      <td>...</td>\n",
       "    </tr>\n",
       "    <tr>\n",
       "      <th>32</th>\n",
       "      <td>Dave</td>\n",
       "      <td>Zitanick</td>\n",
       "      <td></td>\n",
       "      <td>http://ufcstats.com/fighter-details/be124bdd60...</td>\n",
       "    </tr>\n",
       "    <tr>\n",
       "      <th>33</th>\n",
       "      <td>Alex</td>\n",
       "      <td>Zuniga</td>\n",
       "      <td></td>\n",
       "      <td>http://ufcstats.com/fighter-details/02d808afb9...</td>\n",
       "    </tr>\n",
       "    <tr>\n",
       "      <th>34</th>\n",
       "      <td>George</td>\n",
       "      <td>Zuniga</td>\n",
       "      <td></td>\n",
       "      <td>http://ufcstats.com/fighter-details/1291dd6b8a...</td>\n",
       "    </tr>\n",
       "    <tr>\n",
       "      <th>35</th>\n",
       "      <td>Allan</td>\n",
       "      <td>Zuniga</td>\n",
       "      <td>Tigre</td>\n",
       "      <td>http://ufcstats.com/fighter-details/523af801b3...</td>\n",
       "    </tr>\n",
       "    <tr>\n",
       "      <th>36</th>\n",
       "      <td>Virgil</td>\n",
       "      <td>Zwicker</td>\n",
       "      <td>RezDog</td>\n",
       "      <td>http://ufcstats.com/fighter-details/0c277f3ff6...</td>\n",
       "    </tr>\n",
       "  </tbody>\n",
       "</table>\n",
       "<p>4267 rows × 4 columns</p>\n",
       "</div>"
      ],
      "text/plain": [
       "      FIRST        LAST      NICKNAME  \\\n",
       "0       Tom       Aaron                 \n",
       "1     Danny      Abbadi  The Assassin   \n",
       "2   Nariman     Abbasov     Bayraktar   \n",
       "3     David      Abbott          Tank   \n",
       "4     Hamdy  Abdelwahab    The Hammer   \n",
       "..      ...         ...           ...   \n",
       "32     Dave    Zitanick                 \n",
       "33     Alex      Zuniga                 \n",
       "34   George      Zuniga                 \n",
       "35    Allan      Zuniga         Tigre   \n",
       "36   Virgil     Zwicker        RezDog   \n",
       "\n",
       "                                                  URL  \n",
       "0   http://ufcstats.com/fighter-details/93fe7332d1...  \n",
       "1   http://ufcstats.com/fighter-details/15df64c02b...  \n",
       "2   http://ufcstats.com/fighter-details/59a9d6dac6...  \n",
       "3   http://ufcstats.com/fighter-details/b361180739...  \n",
       "4   http://ufcstats.com/fighter-details/3329d692ae...  \n",
       "..                                                ...  \n",
       "32  http://ufcstats.com/fighter-details/be124bdd60...  \n",
       "33  http://ufcstats.com/fighter-details/02d808afb9...  \n",
       "34  http://ufcstats.com/fighter-details/1291dd6b8a...  \n",
       "35  http://ufcstats.com/fighter-details/523af801b3...  \n",
       "36  http://ufcstats.com/fighter-details/0c277f3ff6...  \n",
       "\n",
       "[4267 rows x 4 columns]"
      ]
     },
     "metadata": {},
     "output_type": "display_data"
    }
   ],
   "source": [
    "# create empty dataframe to store all fighter details\n",
    "all_fighter_details_df = pd.DataFrame()\n",
    "\n",
    "# loop through list of alphabetical urls\n",
    "for url in tqdm_notebook(list_of_alphabetical_urls):\n",
    "    # get soup\n",
    "    soup = LIB.get_soup(url)\n",
    "    # parse fighter details\n",
    "    fighter_details_df = LIB.parse_fighter_details(soup, config['fighter_details_column_names'])\n",
    "    # concat fighter_details_df to all_fighter_details_df\n",
    "    all_fighter_details_df = pd.concat([all_fighter_details_df, fighter_details_df])\n",
    "\n",
    "# show all fighter details\n",
    "display(all_fighter_details_df)\n",
    "\n",
    "# write to file\n",
    "all_fighter_details_df.to_csv(config['fighter_details_file_name'], index=False)"
   ]
  },
  {
   "cell_type": "markdown",
   "id": "89365e21-3240-4ba6-af58-2174d5ddc7be",
   "metadata": {},
   "source": [
    "## Parse Fighter Tale of the Tape\n",
    "Includes \n",
    "* Fighter\n",
    "* Height\n",
    "* Weight\n",
    "* Reach\n",
    "* Stance\n",
    "* DOB\n",
    "* URL"
   ]
  },
  {
   "cell_type": "code",
   "execution_count": 4,
   "id": "e1e1a564-3af7-4e2e-a5ac-98119cb30b95",
   "metadata": {},
   "outputs": [],
   "source": [
    "# define list of urls of fighters to parse\n",
    "list_of_fighter_urls = list(all_fighter_details_df['URL'])"
   ]
  },
  {
   "cell_type": "code",
   "execution_count": null,
   "id": "c0a06b5c-4789-45fd-a582-3a82c2ca82e6",
   "metadata": {},
   "outputs": [
    {
     "data": {
      "application/vnd.jupyter.widget-view+json": {
       "model_id": "8dfb5324599f47aab529e8a6c1c09eda",
       "version_major": 2,
       "version_minor": 0
      },
      "text/plain": [
       "  0%|          | 0/4267 [00:00<?, ?it/s]"
      ]
     },
     "metadata": {},
     "output_type": "display_data"
    }
   ],
   "source": [
    "# create empty df to store fighters' tale of the tape\n",
    "all_fighter_tott_df = pd.DataFrame(columns=config['fighter_tott_column_names'])\n",
    "\n",
    "# loop through list_of_fighter_urls\n",
    "for url in tqdm_notebook(list_of_fighter_urls):\n",
    "    # get soup\n",
    "    soup = LIB.get_soup(url)\n",
    "    # parse fighter tale of the tape\n",
    "    fighter_tott = LIB.parse_fighter_tott(soup)\n",
    "    # organise fighter tale of the tape\n",
    "    fighter_tott_df = LIB.organise_fighter_tott(fighter_tott, config['fighter_tott_column_names'], url)\n",
    "    # concat fighter\n",
    "    all_fighter_tott_df = pd.concat([all_fighter_tott_df, fighter_tott_df])\n",
    "\n",
    "# show all fighters' tale of the tape\n",
    "display(all_fighter_tott_df)\n",
    "\n",
    "# write to file\n",
    "all_fighter_tott_df.to_csv(config['fighter_tott_file_name'], index=False)"
   ]
  },
  {
   "cell_type": "code",
   "execution_count": null,
   "id": "b6abfa48-754a-413b-9ca6-4b10335fc6c5",
   "metadata": {},
   "outputs": [],
   "source": []
  }
 ],
 "metadata": {
  "kernelspec": {
   "display_name": "Python 3 (ipykernel)",
   "language": "python",
   "name": "python3"
  },
  "language_info": {
   "codemirror_mode": {
    "name": "ipython",
    "version": 3
   },
   "file_extension": ".py",
   "mimetype": "text/x-python",
   "name": "python",
   "nbconvert_exporter": "python",
   "pygments_lexer": "ipython3",
   "version": "3.12.7"
  }
 },
 "nbformat": 4,
 "nbformat_minor": 5
}
