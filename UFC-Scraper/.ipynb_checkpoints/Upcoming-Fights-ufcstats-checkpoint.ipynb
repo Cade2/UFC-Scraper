{
 "cells": [
  {
   "cell_type": "code",
   "execution_count": 1,
   "id": "e1138651-cdb9-403a-87f8-4acf7543e324",
   "metadata": {},
   "outputs": [],
   "source": [
    "#!/usr/bin/env python\n",
    "# coding: utf-8\n",
    "\n",
    "# **Overview**\n",
    "# Scrapes upcoming UFC fights from `ufcstats.com`, including fight matchups and fighter statistics.\n",
    "\n",
    "# **Imports**\n",
    "import pandas as pd\n",
    "import asyncio\n",
    "import aiohttp\n",
    "from bs4 import BeautifulSoup\n",
    "import os\n",
    "import yaml\n",
    "import scrape_ufc_stats_library as LIB  # Custom library for parsing functions\n"
   ]
  },
  {
   "cell_type": "code",
   "execution_count": 2,
   "id": "a798d40c-0d7b-45dc-ae63-cba6830295e5",
   "metadata": {},
   "outputs": [],
   "source": [
    "# Load configuration\n",
    "config = yaml.safe_load(open(\"scrape_ufc_stats_config.yaml\"))\n",
    "\n",
    "# Ensure event folders exist\n",
    "os.makedirs(\"datasets\", exist_ok=True)"
   ]
  },
  {
   "cell_type": "code",
   "execution_count": 3,
   "id": "3a7bd474-9db4-4794-9d7d-eb1b83b8fc2f",
   "metadata": {},
   "outputs": [],
   "source": [
    "# Load existing events\n",
    "existing_events_file = config['upcoming_events_ufcstats_file']\n",
    "if os.path.exists(existing_events_file):\n",
    "    existing_events_df = pd.read_csv(existing_events_file)\n",
    "    existing_event_urls = set(existing_events_df['URL'])\n",
    "else:\n",
    "    existing_event_urls = set()\n",
    "\n",
    "# Load scraped progress file\n",
    "progress_file = config['scraped_progress_file']\n",
    "if os.path.exists(progress_file):\n",
    "    progress_df = pd.read_csv(progress_file)\n",
    "    completed_events = set(progress_df[progress_df[\"TYPE\"] == \"event\"][\"URL\"])\n",
    "else:\n",
    "    completed_events = set()"
   ]
  },
  {
   "cell_type": "code",
   "execution_count": 4,
   "id": "bb59bcbd-e715-4e34-aeec-f3567572a71b",
   "metadata": {},
   "outputs": [
    {
     "ename": "RuntimeError",
     "evalue": "asyncio.run() cannot be called from a running event loop",
     "output_type": "error",
     "traceback": [
      "\u001b[1;31m---------------------------------------------------------------------------\u001b[0m",
      "\u001b[1;31mRuntimeError\u001b[0m                              Traceback (most recent call last)",
      "Cell \u001b[1;32mIn[4], line 9\u001b[0m\n\u001b[0;32m      6\u001b[0m     \u001b[38;5;28;01mfor\u001b[39;00m event_url \u001b[38;5;129;01min\u001b[39;00m new_events_df[\u001b[38;5;124m'\u001b[39m\u001b[38;5;124mURL\u001b[39m\u001b[38;5;124m'\u001b[39m]:\n\u001b[0;32m      7\u001b[0m         save_progress(\u001b[38;5;124m\"\u001b[39m\u001b[38;5;124mevent\u001b[39m\u001b[38;5;124m\"\u001b[39m, event_url, config)\n\u001b[1;32m----> 9\u001b[0m asyncio\u001b[38;5;241m.\u001b[39mrun(fetch_upcoming_events())\n",
      "File \u001b[1;32m~\\anaconda3\\Lib\\asyncio\\runners.py:190\u001b[0m, in \u001b[0;36mrun\u001b[1;34m(main, debug, loop_factory)\u001b[0m\n\u001b[0;32m    161\u001b[0m \u001b[38;5;250m\u001b[39m\u001b[38;5;124;03m\"\"\"Execute the coroutine and return the result.\u001b[39;00m\n\u001b[0;32m    162\u001b[0m \n\u001b[0;32m    163\u001b[0m \u001b[38;5;124;03mThis function runs the passed coroutine, taking care of\u001b[39;00m\n\u001b[1;32m   (...)\u001b[0m\n\u001b[0;32m    186\u001b[0m \u001b[38;5;124;03m    asyncio.run(main())\u001b[39;00m\n\u001b[0;32m    187\u001b[0m \u001b[38;5;124;03m\"\"\"\u001b[39;00m\n\u001b[0;32m    188\u001b[0m \u001b[38;5;28;01mif\u001b[39;00m events\u001b[38;5;241m.\u001b[39m_get_running_loop() \u001b[38;5;129;01mis\u001b[39;00m \u001b[38;5;129;01mnot\u001b[39;00m \u001b[38;5;28;01mNone\u001b[39;00m:\n\u001b[0;32m    189\u001b[0m     \u001b[38;5;66;03m# fail fast with short traceback\u001b[39;00m\n\u001b[1;32m--> 190\u001b[0m     \u001b[38;5;28;01mraise\u001b[39;00m \u001b[38;5;167;01mRuntimeError\u001b[39;00m(\n\u001b[0;32m    191\u001b[0m         \u001b[38;5;124m\"\u001b[39m\u001b[38;5;124masyncio.run() cannot be called from a running event loop\u001b[39m\u001b[38;5;124m\"\u001b[39m)\n\u001b[0;32m    193\u001b[0m \u001b[38;5;28;01mwith\u001b[39;00m Runner(debug\u001b[38;5;241m=\u001b[39mdebug, loop_factory\u001b[38;5;241m=\u001b[39mloop_factory) \u001b[38;5;28;01mas\u001b[39;00m runner:\n\u001b[0;32m    194\u001b[0m     \u001b[38;5;28;01mreturn\u001b[39;00m runner\u001b[38;5;241m.\u001b[39mrun(main)\n",
      "\u001b[1;31mRuntimeError\u001b[0m: asyncio.run() cannot be called from a running event loop"
     ]
    }
   ],
   "source": [
    "async def fetch_upcoming_events():\n",
    "    soup = await LIB.get_soup_async(config['upcoming_events_ufcstats_url'])\n",
    "    event_df = LIB.parse_upcoming_events(soup)\n",
    "    new_events_df = event_df[~event_df['URL'].isin(existing_event_urls | completed_events)]\n",
    "    \n",
    "    for event_url in new_events_df['URL']:\n",
    "        save_progress(\"event\", event_url, config)\n",
    "\n",
    "asyncio.run(fetch_upcoming_events())"
   ]
  },
  {
   "cell_type": "code",
   "execution_count": null,
   "id": "bf0b3be6-dbfb-4544-9026-eb49e5212d56",
   "metadata": {},
   "outputs": [],
   "source": [
    "# **1. Define URL for Upcoming Events**\n",
    "ufcstats_upcoming_url = \"http://ufcstats.com/statistics/events/upcoming\""
   ]
  },
  {
   "cell_type": "code",
   "execution_count": null,
   "id": "1004b088-16a6-41a1-8cfd-10888104d592",
   "metadata": {},
   "outputs": [],
   "source": [
    "# **2. Async Function to Fetch and Parse Events**\n",
    "async def fetch_upcoming_events(session):\n",
    "    \"\"\"Scrape upcoming UFC events from ufcstats.com.\"\"\"\n",
    "    soup = await LIB.get_soup_async(ufcstats_upcoming_url, session)\n",
    "\n",
    "    if soup is None:\n",
    "        print(\"Failed to fetch upcoming UFC events.\")\n",
    "        return pd.DataFrame()  # Return empty DataFrame on failure\n",
    "    \n",
    "    event_df = LIB.parse_upcoming_events(soup)\n",
    "    return event_df"
   ]
  },
  {
   "cell_type": "code",
   "execution_count": null,
   "id": "d3b6701c-80bd-4bce-80fa-8f1bc0d2778b",
   "metadata": {},
   "outputs": [],
   "source": [
    "# **3. Async Function to Fetch and Parse Fight Details**\n",
    "async def fetch_fight_details(event_urls):\n",
    "    \"\"\"Scrape fight matchups and fighter statistics for upcoming events.\"\"\"\n",
    "    soups = await LIB.fetch_all_soups(event_urls)\n",
    "    fight_details = []\n",
    "\n",
    "    for url, soup in zip(event_urls, soups):\n",
    "        if soup is None:\n",
    "            print(f\"Skipping event due to failed fetch: {url}\")\n",
    "            continue\n",
    "        \n",
    "        try:\n",
    "            event_name = soup.find('h2', class_='b-content__title').text.strip()\n",
    "            fight_blocks = soup.find_all('tr', class_='b-fight-details__table-row')\n",
    "\n",
    "            for fight in fight_blocks:\n",
    "                fighters = fight.find_all('a', class_='b-link b-link_style_black')\n",
    "                if len(fighters) == 2:\n",
    "                    fighter1 = fighters[0].text.strip()\n",
    "                    fighter2 = fighters[1].text.strip()\n",
    "\n",
    "                    weight_class = fight.find('td', class_='b-fight-details__table-col').text.strip()\n",
    "\n",
    "                    # Fetch Fighter Stats\n",
    "                    fighter1_stats = LIB.fetch_fighter_stats(fighters[0]['href'])\n",
    "                    fighter2_stats = LIB.fetch_fighter_stats(fighters[1]['href'])\n",
    "\n",
    "                    fight_details.append({\n",
    "                        \"EVENT\": event_name,\n",
    "                        \"FIGHTER 1\": fighter1,\n",
    "                        \"FIGHTER 2\": fighter2,\n",
    "                        \"WEIGHTCLASS\": weight_class,\n",
    "                        **fighter1_stats,\n",
    "                        **fighter2_stats,\n",
    "                        \"URL\": url\n",
    "                    })\n",
    "\n",
    "        except Exception as e:\n",
    "            print(f\"Error parsing fight details for {url}: {e}\")\n",
    "\n",
    "    return pd.DataFrame(fight_details)"
   ]
  },
  {
   "cell_type": "code",
   "execution_count": null,
   "id": "3aaec639-9c2e-4452-9943-3f56c622e1af",
   "metadata": {},
   "outputs": [],
   "source": [
    "# **4. Execute Async Scraper**\n",
    "async def main():\n",
    "    print(\"Fetching upcoming UFC events from UFCStats...\")\n",
    "    event_df = await fetch_upcoming_events()\n",
    "\n",
    "    if event_df.empty:\n",
    "        print(\"No upcoming events found.\")\n",
    "        return\n",
    "\n",
    "    print(f\"Found {len(event_df)} upcoming events.\")\n",
    "    print(\"Fetching fight details...\")\n",
    "\n",
    "    fight_df = await fetch_fight_details(event_df[\"URL\"].tolist())\n",
    "\n",
    "    # Merge event details with fight matchups\n",
    "    final_df = pd.merge(event_df, fight_df, on=\"EVENT\", how=\"left\")\n",
    "\n",
    "    # Save to CSV\n",
    "    final_df.to_csv(\"datasets/upcoming_fights_ufcstats.csv\", index=False)\n",
    "    print(\"UFCStats upcoming fights data saved!\")"
   ]
  },
  {
   "cell_type": "code",
   "execution_count": null,
   "id": "cd4ce443-913b-40b2-97c4-d61cc26b6318",
   "metadata": {},
   "outputs": [],
   "source": [
    "# **5. Run Scraper**\n",
    "import nest_asyncio\n",
    "nest_asyncio.apply()\n",
    "\n",
    "await main()"
   ]
  },
  {
   "cell_type": "code",
   "execution_count": null,
   "id": "807ed945-3c8b-4a92-b50d-78dbc4a0eb32",
   "metadata": {},
   "outputs": [],
   "source": []
  }
 ],
 "metadata": {
  "kernelspec": {
   "display_name": "Python 3 (ipykernel)",
   "language": "python",
   "name": "python3"
  },
  "language_info": {
   "codemirror_mode": {
    "name": "ipython",
    "version": 3
   },
   "file_extension": ".py",
   "mimetype": "text/x-python",
   "name": "python",
   "nbconvert_exporter": "python",
   "pygments_lexer": "ipython3",
   "version": "3.12.7"
  }
 },
 "nbformat": 4,
 "nbformat_minor": 5
}
